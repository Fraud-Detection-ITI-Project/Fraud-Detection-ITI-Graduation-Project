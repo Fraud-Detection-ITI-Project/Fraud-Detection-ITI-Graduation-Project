{
  "cells": [
    {
      "cell_type": "markdown",
      "id": "MsmsBaov0H9h",
      "metadata": {
        "id": "MsmsBaov0H9h"
      },
      "source": [
        "# **Import Libraries**"
      ]
    },
    {
      "cell_type": "code",
      "execution_count": null,
      "id": "c484cfb1",
      "metadata": {
        "id": "c484cfb1"
      },
      "outputs": [],
      "source": [
        "import pandas as pd\n",
        "import numpy as np\n",
        "import matplotlib.pyplot as plt\n",
        "import seaborn as sns"
      ]
    },
    {
      "cell_type": "markdown",
      "id": "Xl5ygjK40eK9",
      "metadata": {
        "id": "Xl5ygjK40eK9"
      },
      "source": [
        "#**Loading The Data**"
      ]
    },
    {
      "cell_type": "code",
      "execution_count": null,
      "id": "5Eh54Uow0Zps",
      "metadata": {
        "id": "5Eh54Uow0Zps"
      },
      "outputs": [],
      "source": [
        "# 1. Load data\n",
        "df = pd.read_csv(\"transactions_egypt_centric_final_v8.csv\")"
      ]
    },
    {
      "cell_type": "markdown",
      "id": "u0Qa_-BD0wbK",
      "metadata": {
        "id": "u0Qa_-BD0wbK"
      },
      "source": [
        "#**Data Exploration**"
      ]
    },
    {
      "cell_type": "code",
      "execution_count": null,
      "id": "wNB3qawU05zX",
      "metadata": {
        "colab": {
          "base_uri": "https://localhost:8080/",
          "height": 516
        },
        "id": "wNB3qawU05zX",
        "outputId": "6b1480ab-585d-496a-8232-a220603af839"
      },
      "outputs": [
        {
          "data": {
            "application/vnd.google.colaboratory.intrinsic+json": {
              "type": "dataframe",
              "variable_name": "df"
            },
            "text/html": [
              "\n",
              "  <div id=\"df-9b661979-a12e-4a0d-aceb-2ffceb030108\" class=\"colab-df-container\">\n",
              "    <div>\n",
              "<style scoped>\n",
              "    .dataframe tbody tr th:only-of-type {\n",
              "        vertical-align: middle;\n",
              "    }\n",
              "\n",
              "    .dataframe tbody tr th {\n",
              "        vertical-align: top;\n",
              "    }\n",
              "\n",
              "    .dataframe thead th {\n",
              "        text-align: right;\n",
              "    }\n",
              "</style>\n",
              "<table border=\"1\" class=\"dataframe\">\n",
              "  <thead>\n",
              "    <tr style=\"text-align: right;\">\n",
              "      <th></th>\n",
              "      <th>transaction_id</th>\n",
              "      <th>transaction_timestamp</th>\n",
              "      <th>transaction_amount</th>\n",
              "      <th>currency</th>\n",
              "      <th>transaction_type</th>\n",
              "      <th>transaction_status</th>\n",
              "      <th>transaction_hour_of_day</th>\n",
              "      <th>customer_id</th>\n",
              "      <th>customer_name</th>\n",
              "      <th>customer_email</th>\n",
              "      <th>...</th>\n",
              "      <th>ip_proxy_type</th>\n",
              "      <th>device_id</th>\n",
              "      <th>device_os</th>\n",
              "      <th>user_agent</th>\n",
              "      <th>is_international</th>\n",
              "      <th>distance_from_home_km</th>\n",
              "      <th>distance_from_last_txn_km</th>\n",
              "      <th>time_since_last_txn_sec</th>\n",
              "      <th>is_first_time_customer_merchant</th>\n",
              "      <th>is_fraud</th>\n",
              "    </tr>\n",
              "  </thead>\n",
              "  <tbody>\n",
              "    <tr>\n",
              "      <th>0</th>\n",
              "      <td>3138cc9d-26d0-4c9e-8a8a-f48bc0f2b952</td>\n",
              "      <td>2023-01-01T03:00:00Z</td>\n",
              "      <td>19.73</td>\n",
              "      <td>EGP</td>\n",
              "      <td>POS</td>\n",
              "      <td>approved</td>\n",
              "      <td>3</td>\n",
              "      <td>4c80a1b2-8477-43ce-b329-429e87e0dda0</td>\n",
              "      <td>Ali Mounes</td>\n",
              "      <td>alimounes1989@hotmail.com</td>\n",
              "      <td>...</td>\n",
              "      <td>tor</td>\n",
              "      <td>e8ef4fd0-902a-4a77-9353-2e82ae155725</td>\n",
              "      <td>Android</td>\n",
              "      <td>Mozilla/5.0 (Macintosh; PPC Mac OS X 10_12_8 r...</td>\n",
              "      <td>False</td>\n",
              "      <td>0.0000</td>\n",
              "      <td>0.0000</td>\n",
              "      <td>2343600.0</td>\n",
              "      <td>True</td>\n",
              "      <td>True</td>\n",
              "    </tr>\n",
              "    <tr>\n",
              "      <th>1</th>\n",
              "      <td>dd61cc8a-f835-411b-b75f-2130665dc26b</td>\n",
              "      <td>2023-01-01T03:00:15Z</td>\n",
              "      <td>14.39</td>\n",
              "      <td>EGP</td>\n",
              "      <td>ONL</td>\n",
              "      <td>approved</td>\n",
              "      <td>3</td>\n",
              "      <td>4c80a1b2-8477-43ce-b329-429e87e0dda0</td>\n",
              "      <td>Ali Mounes</td>\n",
              "      <td>alimounes1989@hotmail.com</td>\n",
              "      <td>...</td>\n",
              "      <td>vpn</td>\n",
              "      <td>e8ef4fd0-902a-4a77-9353-2e82ae155725</td>\n",
              "      <td>Android</td>\n",
              "      <td>Opera/8.79.(X11; Linux x86_64; tk-TM) Presto/2...</td>\n",
              "      <td>False</td>\n",
              "      <td>0.0000</td>\n",
              "      <td>0.0000</td>\n",
              "      <td>2343600.0</td>\n",
              "      <td>False</td>\n",
              "      <td>True</td>\n",
              "    </tr>\n",
              "    <tr>\n",
              "      <th>2</th>\n",
              "      <td>12a4bce9-2420-4ee8-8e5d-a2396c7ce68b</td>\n",
              "      <td>2023-01-01T03:00:30Z</td>\n",
              "      <td>42.06</td>\n",
              "      <td>EGP</td>\n",
              "      <td>QR</td>\n",
              "      <td>declined</td>\n",
              "      <td>3</td>\n",
              "      <td>4c80a1b2-8477-43ce-b329-429e87e0dda0</td>\n",
              "      <td>Ali Mounes</td>\n",
              "      <td>alimounes1989@hotmail.com</td>\n",
              "      <td>...</td>\n",
              "      <td>tor</td>\n",
              "      <td>e8ef4fd0-902a-4a77-9353-2e82ae155725</td>\n",
              "      <td>Android</td>\n",
              "      <td>Opera/8.51.(Windows 95; oc-FR) Presto/2.9.170 ...</td>\n",
              "      <td>False</td>\n",
              "      <td>0.0000</td>\n",
              "      <td>0.0000</td>\n",
              "      <td>2343600.0</td>\n",
              "      <td>False</td>\n",
              "      <td>True</td>\n",
              "    </tr>\n",
              "    <tr>\n",
              "      <th>3</th>\n",
              "      <td>d00cbf5c-e006-4a69-ab54-d68f87736d05</td>\n",
              "      <td>2023-01-01T03:00:45Z</td>\n",
              "      <td>28.87</td>\n",
              "      <td>EGP</td>\n",
              "      <td>ONL</td>\n",
              "      <td>declined</td>\n",
              "      <td>3</td>\n",
              "      <td>4c80a1b2-8477-43ce-b329-429e87e0dda0</td>\n",
              "      <td>Ali Mounes</td>\n",
              "      <td>alimounes1989@hotmail.com</td>\n",
              "      <td>...</td>\n",
              "      <td>none</td>\n",
              "      <td>e8ef4fd0-902a-4a77-9353-2e82ae155725</td>\n",
              "      <td>Android</td>\n",
              "      <td>Mozilla/5.0 (X11; Linux x86_64) AppleWebKit/53...</td>\n",
              "      <td>False</td>\n",
              "      <td>0.0000</td>\n",
              "      <td>0.0000</td>\n",
              "      <td>2343600.0</td>\n",
              "      <td>False</td>\n",
              "      <td>True</td>\n",
              "    </tr>\n",
              "    <tr>\n",
              "      <th>4</th>\n",
              "      <td>f80fcd8a-eceb-400e-9ba0-73b2de8ef6dc</td>\n",
              "      <td>2023-01-01T12:04:25.523977Z</td>\n",
              "      <td>1382.13</td>\n",
              "      <td>EGP</td>\n",
              "      <td>ONL</td>\n",
              "      <td>approved</td>\n",
              "      <td>12</td>\n",
              "      <td>54ca5b93-67b9-4ce5-9f6e-ec36b895381f</td>\n",
              "      <td>Hoda Seif</td>\n",
              "      <td>hodaseif1981@orange.com.eg</td>\n",
              "      <td>...</td>\n",
              "      <td>none</td>\n",
              "      <td>1f17db93-e9e1-45e2-8a64-078fab31c327</td>\n",
              "      <td>iOS</td>\n",
              "      <td>Mozilla/5.0 (compatible; MSIE 5.0; Windows NT ...</td>\n",
              "      <td>False</td>\n",
              "      <td>6.6171</td>\n",
              "      <td>6.6171</td>\n",
              "      <td>2117065.0</td>\n",
              "      <td>True</td>\n",
              "      <td>False</td>\n",
              "    </tr>\n",
              "  </tbody>\n",
              "</table>\n",
              "<p>5 rows × 37 columns</p>\n",
              "</div>\n",
              "    <div class=\"colab-df-buttons\">\n",
              "\n",
              "  <div class=\"colab-df-container\">\n",
              "    <button class=\"colab-df-convert\" onclick=\"convertToInteractive('df-9b661979-a12e-4a0d-aceb-2ffceb030108')\"\n",
              "            title=\"Convert this dataframe to an interactive table.\"\n",
              "            style=\"display:none;\">\n",
              "\n",
              "  <svg xmlns=\"http://www.w3.org/2000/svg\" height=\"24px\" viewBox=\"0 -960 960 960\">\n",
              "    <path d=\"M120-120v-720h720v720H120Zm60-500h600v-160H180v160Zm220 220h160v-160H400v160Zm0 220h160v-160H400v160ZM180-400h160v-160H180v160Zm440 0h160v-160H620v160ZM180-180h160v-160H180v160Zm440 0h160v-160H620v160Z\"/>\n",
              "  </svg>\n",
              "    </button>\n",
              "\n",
              "  <style>\n",
              "    .colab-df-container {\n",
              "      display:flex;\n",
              "      gap: 12px;\n",
              "    }\n",
              "\n",
              "    .colab-df-convert {\n",
              "      background-color: #E8F0FE;\n",
              "      border: none;\n",
              "      border-radius: 50%;\n",
              "      cursor: pointer;\n",
              "      display: none;\n",
              "      fill: #1967D2;\n",
              "      height: 32px;\n",
              "      padding: 0 0 0 0;\n",
              "      width: 32px;\n",
              "    }\n",
              "\n",
              "    .colab-df-convert:hover {\n",
              "      background-color: #E2EBFA;\n",
              "      box-shadow: 0px 1px 2px rgba(60, 64, 67, 0.3), 0px 1px 3px 1px rgba(60, 64, 67, 0.15);\n",
              "      fill: #174EA6;\n",
              "    }\n",
              "\n",
              "    .colab-df-buttons div {\n",
              "      margin-bottom: 4px;\n",
              "    }\n",
              "\n",
              "    [theme=dark] .colab-df-convert {\n",
              "      background-color: #3B4455;\n",
              "      fill: #D2E3FC;\n",
              "    }\n",
              "\n",
              "    [theme=dark] .colab-df-convert:hover {\n",
              "      background-color: #434B5C;\n",
              "      box-shadow: 0px 1px 3px 1px rgba(0, 0, 0, 0.15);\n",
              "      filter: drop-shadow(0px 1px 2px rgba(0, 0, 0, 0.3));\n",
              "      fill: #FFFFFF;\n",
              "    }\n",
              "  </style>\n",
              "\n",
              "    <script>\n",
              "      const buttonEl =\n",
              "        document.querySelector('#df-9b661979-a12e-4a0d-aceb-2ffceb030108 button.colab-df-convert');\n",
              "      buttonEl.style.display =\n",
              "        google.colab.kernel.accessAllowed ? 'block' : 'none';\n",
              "\n",
              "      async function convertToInteractive(key) {\n",
              "        const element = document.querySelector('#df-9b661979-a12e-4a0d-aceb-2ffceb030108');\n",
              "        const dataTable =\n",
              "          await google.colab.kernel.invokeFunction('convertToInteractive',\n",
              "                                                    [key], {});\n",
              "        if (!dataTable) return;\n",
              "\n",
              "        const docLinkHtml = 'Like what you see? Visit the ' +\n",
              "          '<a target=\"_blank\" href=https://colab.research.google.com/notebooks/data_table.ipynb>data table notebook</a>'\n",
              "          + ' to learn more about interactive tables.';\n",
              "        element.innerHTML = '';\n",
              "        dataTable['output_type'] = 'display_data';\n",
              "        await google.colab.output.renderOutput(dataTable, element);\n",
              "        const docLink = document.createElement('div');\n",
              "        docLink.innerHTML = docLinkHtml;\n",
              "        element.appendChild(docLink);\n",
              "      }\n",
              "    </script>\n",
              "  </div>\n",
              "\n",
              "\n",
              "    <div id=\"df-f6321b3f-e450-4708-abb6-87d4f2bc8563\">\n",
              "      <button class=\"colab-df-quickchart\" onclick=\"quickchart('df-f6321b3f-e450-4708-abb6-87d4f2bc8563')\"\n",
              "                title=\"Suggest charts\"\n",
              "                style=\"display:none;\">\n",
              "\n",
              "<svg xmlns=\"http://www.w3.org/2000/svg\" height=\"24px\"viewBox=\"0 0 24 24\"\n",
              "     width=\"24px\">\n",
              "    <g>\n",
              "        <path d=\"M19 3H5c-1.1 0-2 .9-2 2v14c0 1.1.9 2 2 2h14c1.1 0 2-.9 2-2V5c0-1.1-.9-2-2-2zM9 17H7v-7h2v7zm4 0h-2V7h2v10zm4 0h-2v-4h2v4z\"/>\n",
              "    </g>\n",
              "</svg>\n",
              "      </button>\n",
              "\n",
              "<style>\n",
              "  .colab-df-quickchart {\n",
              "      --bg-color: #E8F0FE;\n",
              "      --fill-color: #1967D2;\n",
              "      --hover-bg-color: #E2EBFA;\n",
              "      --hover-fill-color: #174EA6;\n",
              "      --disabled-fill-color: #AAA;\n",
              "      --disabled-bg-color: #DDD;\n",
              "  }\n",
              "\n",
              "  [theme=dark] .colab-df-quickchart {\n",
              "      --bg-color: #3B4455;\n",
              "      --fill-color: #D2E3FC;\n",
              "      --hover-bg-color: #434B5C;\n",
              "      --hover-fill-color: #FFFFFF;\n",
              "      --disabled-bg-color: #3B4455;\n",
              "      --disabled-fill-color: #666;\n",
              "  }\n",
              "\n",
              "  .colab-df-quickchart {\n",
              "    background-color: var(--bg-color);\n",
              "    border: none;\n",
              "    border-radius: 50%;\n",
              "    cursor: pointer;\n",
              "    display: none;\n",
              "    fill: var(--fill-color);\n",
              "    height: 32px;\n",
              "    padding: 0;\n",
              "    width: 32px;\n",
              "  }\n",
              "\n",
              "  .colab-df-quickchart:hover {\n",
              "    background-color: var(--hover-bg-color);\n",
              "    box-shadow: 0 1px 2px rgba(60, 64, 67, 0.3), 0 1px 3px 1px rgba(60, 64, 67, 0.15);\n",
              "    fill: var(--button-hover-fill-color);\n",
              "  }\n",
              "\n",
              "  .colab-df-quickchart-complete:disabled,\n",
              "  .colab-df-quickchart-complete:disabled:hover {\n",
              "    background-color: var(--disabled-bg-color);\n",
              "    fill: var(--disabled-fill-color);\n",
              "    box-shadow: none;\n",
              "  }\n",
              "\n",
              "  .colab-df-spinner {\n",
              "    border: 2px solid var(--fill-color);\n",
              "    border-color: transparent;\n",
              "    border-bottom-color: var(--fill-color);\n",
              "    animation:\n",
              "      spin 1s steps(1) infinite;\n",
              "  }\n",
              "\n",
              "  @keyframes spin {\n",
              "    0% {\n",
              "      border-color: transparent;\n",
              "      border-bottom-color: var(--fill-color);\n",
              "      border-left-color: var(--fill-color);\n",
              "    }\n",
              "    20% {\n",
              "      border-color: transparent;\n",
              "      border-left-color: var(--fill-color);\n",
              "      border-top-color: var(--fill-color);\n",
              "    }\n",
              "    30% {\n",
              "      border-color: transparent;\n",
              "      border-left-color: var(--fill-color);\n",
              "      border-top-color: var(--fill-color);\n",
              "      border-right-color: var(--fill-color);\n",
              "    }\n",
              "    40% {\n",
              "      border-color: transparent;\n",
              "      border-right-color: var(--fill-color);\n",
              "      border-top-color: var(--fill-color);\n",
              "    }\n",
              "    60% {\n",
              "      border-color: transparent;\n",
              "      border-right-color: var(--fill-color);\n",
              "    }\n",
              "    80% {\n",
              "      border-color: transparent;\n",
              "      border-right-color: var(--fill-color);\n",
              "      border-bottom-color: var(--fill-color);\n",
              "    }\n",
              "    90% {\n",
              "      border-color: transparent;\n",
              "      border-bottom-color: var(--fill-color);\n",
              "    }\n",
              "  }\n",
              "</style>\n",
              "\n",
              "      <script>\n",
              "        async function quickchart(key) {\n",
              "          const quickchartButtonEl =\n",
              "            document.querySelector('#' + key + ' button');\n",
              "          quickchartButtonEl.disabled = true;  // To prevent multiple clicks.\n",
              "          quickchartButtonEl.classList.add('colab-df-spinner');\n",
              "          try {\n",
              "            const charts = await google.colab.kernel.invokeFunction(\n",
              "                'suggestCharts', [key], {});\n",
              "          } catch (error) {\n",
              "            console.error('Error during call to suggestCharts:', error);\n",
              "          }\n",
              "          quickchartButtonEl.classList.remove('colab-df-spinner');\n",
              "          quickchartButtonEl.classList.add('colab-df-quickchart-complete');\n",
              "        }\n",
              "        (() => {\n",
              "          let quickchartButtonEl =\n",
              "            document.querySelector('#df-f6321b3f-e450-4708-abb6-87d4f2bc8563 button');\n",
              "          quickchartButtonEl.style.display =\n",
              "            google.colab.kernel.accessAllowed ? 'block' : 'none';\n",
              "        })();\n",
              "      </script>\n",
              "    </div>\n",
              "\n",
              "    </div>\n",
              "  </div>\n"
            ],
            "text/plain": [
              "                         transaction_id        transaction_timestamp  \\\n",
              "0  3138cc9d-26d0-4c9e-8a8a-f48bc0f2b952         2023-01-01T03:00:00Z   \n",
              "1  dd61cc8a-f835-411b-b75f-2130665dc26b         2023-01-01T03:00:15Z   \n",
              "2  12a4bce9-2420-4ee8-8e5d-a2396c7ce68b         2023-01-01T03:00:30Z   \n",
              "3  d00cbf5c-e006-4a69-ab54-d68f87736d05         2023-01-01T03:00:45Z   \n",
              "4  f80fcd8a-eceb-400e-9ba0-73b2de8ef6dc  2023-01-01T12:04:25.523977Z   \n",
              "\n",
              "   transaction_amount currency transaction_type transaction_status  \\\n",
              "0               19.73      EGP              POS           approved   \n",
              "1               14.39      EGP              ONL           approved   \n",
              "2               42.06      EGP               QR           declined   \n",
              "3               28.87      EGP              ONL           declined   \n",
              "4             1382.13      EGP              ONL           approved   \n",
              "\n",
              "   transaction_hour_of_day                           customer_id  \\\n",
              "0                        3  4c80a1b2-8477-43ce-b329-429e87e0dda0   \n",
              "1                        3  4c80a1b2-8477-43ce-b329-429e87e0dda0   \n",
              "2                        3  4c80a1b2-8477-43ce-b329-429e87e0dda0   \n",
              "3                        3  4c80a1b2-8477-43ce-b329-429e87e0dda0   \n",
              "4                       12  54ca5b93-67b9-4ce5-9f6e-ec36b895381f   \n",
              "\n",
              "  customer_name              customer_email  ... ip_proxy_type  \\\n",
              "0    Ali Mounes   alimounes1989@hotmail.com  ...           tor   \n",
              "1    Ali Mounes   alimounes1989@hotmail.com  ...           vpn   \n",
              "2    Ali Mounes   alimounes1989@hotmail.com  ...           tor   \n",
              "3    Ali Mounes   alimounes1989@hotmail.com  ...          none   \n",
              "4     Hoda Seif  hodaseif1981@orange.com.eg  ...          none   \n",
              "\n",
              "                              device_id  device_os  \\\n",
              "0  e8ef4fd0-902a-4a77-9353-2e82ae155725    Android   \n",
              "1  e8ef4fd0-902a-4a77-9353-2e82ae155725    Android   \n",
              "2  e8ef4fd0-902a-4a77-9353-2e82ae155725    Android   \n",
              "3  e8ef4fd0-902a-4a77-9353-2e82ae155725    Android   \n",
              "4  1f17db93-e9e1-45e2-8a64-078fab31c327        iOS   \n",
              "\n",
              "                                          user_agent  is_international  \\\n",
              "0  Mozilla/5.0 (Macintosh; PPC Mac OS X 10_12_8 r...             False   \n",
              "1  Opera/8.79.(X11; Linux x86_64; tk-TM) Presto/2...             False   \n",
              "2  Opera/8.51.(Windows 95; oc-FR) Presto/2.9.170 ...             False   \n",
              "3  Mozilla/5.0 (X11; Linux x86_64) AppleWebKit/53...             False   \n",
              "4  Mozilla/5.0 (compatible; MSIE 5.0; Windows NT ...             False   \n",
              "\n",
              "  distance_from_home_km distance_from_last_txn_km time_since_last_txn_sec  \\\n",
              "0                0.0000                    0.0000               2343600.0   \n",
              "1                0.0000                    0.0000               2343600.0   \n",
              "2                0.0000                    0.0000               2343600.0   \n",
              "3                0.0000                    0.0000               2343600.0   \n",
              "4                6.6171                    6.6171               2117065.0   \n",
              "\n",
              "  is_first_time_customer_merchant is_fraud  \n",
              "0                            True     True  \n",
              "1                           False     True  \n",
              "2                           False     True  \n",
              "3                           False     True  \n",
              "4                            True    False  \n",
              "\n",
              "[5 rows x 37 columns]"
            ]
          },
          "execution_count": 3,
          "metadata": {},
          "output_type": "execute_result"
        }
      ],
      "source": [
        "df.head()"
      ]
    },
    {
      "cell_type": "code",
      "execution_count": null,
      "id": "VROevoaZ0_-h",
      "metadata": {
        "colab": {
          "base_uri": "https://localhost:8080/"
        },
        "id": "VROevoaZ0_-h",
        "outputId": "0d881036-5fcf-4e3c-897f-b21267a2756f"
      },
      "outputs": [
        {
          "name": "stdout",
          "output_type": "stream",
          "text": [
            "Shape: (100000, 37)\n"
          ]
        }
      ],
      "source": [
        "#Shape\n",
        "print(\"Shape:\", df.shape)"
      ]
    },
    {
      "cell_type": "code",
      "execution_count": null,
      "id": "ylCD5WKC1DaZ",
      "metadata": {
        "colab": {
          "base_uri": "https://localhost:8080/"
        },
        "id": "ylCD5WKC1DaZ",
        "outputId": "d3f1f896-829d-4350-e237-c2f68773309f"
      },
      "outputs": [
        {
          "name": "stdout",
          "output_type": "stream",
          "text": [
            "Columns:\n",
            "Index(['transaction_id', 'transaction_timestamp', 'transaction_amount',\n",
            "       'currency', 'transaction_type', 'transaction_status',\n",
            "       'transaction_hour_of_day', 'customer_id', 'customer_name',\n",
            "       'customer_email', 'customer_email_domain', 'customer_tenure_days',\n",
            "       'customer_address_change_days', 'customer_latitude',\n",
            "       'customer_longitude', 'card_number_hash', 'card_type',\n",
            "       'issuing_bank_name', 'card_entry_method', 'cvv_match_result',\n",
            "       'merchant_id', 'merchant_name', 'merchant_category',\n",
            "       'merchant_latitude', 'merchant_longitude', 'merchant_risk_score',\n",
            "       'ip_address', 'ip_proxy_type', 'device_id', 'device_os', 'user_agent',\n",
            "       'is_international', 'distance_from_home_km',\n",
            "       'distance_from_last_txn_km', 'time_since_last_txn_sec',\n",
            "       'is_first_time_customer_merchant', 'is_fraud'],\n",
            "      dtype='object')\n"
          ]
        }
      ],
      "source": [
        "# Columns Names\n",
        "print(\"Columns:\")\n",
        "print(df.columns)"
      ]
    },
    {
      "cell_type": "code",
      "execution_count": null,
      "id": "jshdY7i21FFj",
      "metadata": {
        "colab": {
          "base_uri": "https://localhost:8080/"
        },
        "id": "jshdY7i21FFj",
        "outputId": "0da02a58-f129-4834-b672-4cff62adbde3"
      },
      "outputs": [
        {
          "name": "stdout",
          "output_type": "stream",
          "text": [
            "<class 'pandas.core.frame.DataFrame'>\n",
            "RangeIndex: 100000 entries, 0 to 99999\n",
            "Data columns (total 37 columns):\n",
            " #   Column                           Non-Null Count   Dtype  \n",
            "---  ------                           --------------   -----  \n",
            " 0   transaction_id                   100000 non-null  object \n",
            " 1   transaction_timestamp            100000 non-null  object \n",
            " 2   transaction_amount               100000 non-null  float64\n",
            " 3   currency                         100000 non-null  object \n",
            " 4   transaction_type                 100000 non-null  object \n",
            " 5   transaction_status               100000 non-null  object \n",
            " 6   transaction_hour_of_day          100000 non-null  int64  \n",
            " 7   customer_id                      100000 non-null  object \n",
            " 8   customer_name                    100000 non-null  object \n",
            " 9   customer_email                   100000 non-null  object \n",
            " 10  customer_email_domain            100000 non-null  object \n",
            " 11  customer_tenure_days             100000 non-null  int64  \n",
            " 12  customer_address_change_days     100000 non-null  int64  \n",
            " 13  customer_latitude                100000 non-null  float64\n",
            " 14  customer_longitude               100000 non-null  float64\n",
            " 15  card_number_hash                 100000 non-null  object \n",
            " 16  card_type                        100000 non-null  object \n",
            " 17  issuing_bank_name                100000 non-null  object \n",
            " 18  card_entry_method                100000 non-null  object \n",
            " 19  cvv_match_result                 100000 non-null  object \n",
            " 20  merchant_id                      100000 non-null  object \n",
            " 21  merchant_name                    100000 non-null  object \n",
            " 22  merchant_category                100000 non-null  object \n",
            " 23  merchant_latitude                100000 non-null  float64\n",
            " 24  merchant_longitude               100000 non-null  float64\n",
            " 25  merchant_risk_score              100000 non-null  float64\n",
            " 26  ip_address                       100000 non-null  object \n",
            " 27  ip_proxy_type                    100000 non-null  object \n",
            " 28  device_id                        100000 non-null  object \n",
            " 29  device_os                        100000 non-null  object \n",
            " 30  user_agent                       100000 non-null  object \n",
            " 31  is_international                 100000 non-null  bool   \n",
            " 32  distance_from_home_km            100000 non-null  float64\n",
            " 33  distance_from_last_txn_km        100000 non-null  float64\n",
            " 34  time_since_last_txn_sec          100000 non-null  float64\n",
            " 35  is_first_time_customer_merchant  100000 non-null  bool   \n",
            " 36  is_fraud                         100000 non-null  bool   \n",
            "dtypes: bool(3), float64(9), int64(3), object(22)\n",
            "memory usage: 26.2+ MB\n"
          ]
        }
      ],
      "source": [
        "# Get a summary of the dataframe (columns, data types, non-null counts)\n",
        "df.info()"
      ]
    },
    {
      "cell_type": "code",
      "execution_count": null,
      "id": "rD8XPXkG1GSG",
      "metadata": {
        "colab": {
          "base_uri": "https://localhost:8080/"
        },
        "id": "rD8XPXkG1GSG",
        "outputId": "3a2fa017-5dce-465e-ef1e-a985e8d4cc76"
      },
      "outputs": [
        {
          "name": "stdout",
          "output_type": "stream",
          "text": [
            "The dataset has 100000 rows\n"
          ]
        }
      ],
      "source": [
        "# Examining the length of the dataset\n",
        "print(\"The dataset has\", len(df), \"rows\")"
      ]
    },
    {
      "cell_type": "code",
      "execution_count": null,
      "id": "97nRrKVn1Hoy",
      "metadata": {
        "colab": {
          "base_uri": "https://localhost:8080/"
        },
        "id": "97nRrKVn1Hoy",
        "outputId": "0c8040d4-e337-4962-bdcb-16aaa6192599"
      },
      "outputs": [
        {
          "name": "stdout",
          "output_type": "stream",
          "text": [
            "10001 is fruad of  100000\n"
          ]
        }
      ],
      "source": [
        "# Examining how many Fruad\n",
        "print(sum(df['is_fraud']),'is fruad of ',len(df))"
      ]
    },
    {
      "cell_type": "code",
      "execution_count": null,
      "id": "fvp4SdzK1I6v",
      "metadata": {
        "colab": {
          "base_uri": "https://localhost:8080/",
          "height": 178
        },
        "id": "fvp4SdzK1I6v",
        "outputId": "db34fe97-de17-4c1c-8aaa-27ea43e4fd04"
      },
      "outputs": [
        {
          "data": {
            "text/html": [
              "<div>\n",
              "<style scoped>\n",
              "    .dataframe tbody tr th:only-of-type {\n",
              "        vertical-align: middle;\n",
              "    }\n",
              "\n",
              "    .dataframe tbody tr th {\n",
              "        vertical-align: top;\n",
              "    }\n",
              "\n",
              "    .dataframe thead th {\n",
              "        text-align: right;\n",
              "    }\n",
              "</style>\n",
              "<table border=\"1\" class=\"dataframe\">\n",
              "  <thead>\n",
              "    <tr style=\"text-align: right;\">\n",
              "      <th></th>\n",
              "      <th>count</th>\n",
              "    </tr>\n",
              "    <tr>\n",
              "      <th>is_fraud</th>\n",
              "      <th></th>\n",
              "    </tr>\n",
              "  </thead>\n",
              "  <tbody>\n",
              "    <tr>\n",
              "      <th>False</th>\n",
              "      <td>89999</td>\n",
              "    </tr>\n",
              "    <tr>\n",
              "      <th>True</th>\n",
              "      <td>10001</td>\n",
              "    </tr>\n",
              "  </tbody>\n",
              "</table>\n",
              "</div><br><label><b>dtype:</b> int64</label>"
            ],
            "text/plain": [
              "is_fraud\n",
              "False    89999\n",
              "True     10001\n",
              "Name: count, dtype: int64"
            ]
          },
          "execution_count": 9,
          "metadata": {},
          "output_type": "execute_result"
        }
      ],
      "source": [
        "df['is_fraud'].value_counts()"
      ]
    },
    {
      "cell_type": "code",
      "execution_count": null,
      "id": "HRhzous_1St8",
      "metadata": {
        "colab": {
          "base_uri": "https://localhost:8080/"
        },
        "id": "HRhzous_1St8",
        "outputId": "ab2e6639-6a28-4b96-bb70-b50c642e919a"
      },
      "outputs": [
        {
          "name": "stdout",
          "output_type": "stream",
          "text": [
            "transaction_id                     0\n",
            "transaction_timestamp              0\n",
            "transaction_amount                 0\n",
            "currency                           0\n",
            "transaction_type                   0\n",
            "transaction_status                 0\n",
            "transaction_hour_of_day            0\n",
            "customer_id                        0\n",
            "customer_name                      0\n",
            "customer_email                     0\n",
            "customer_email_domain              0\n",
            "customer_tenure_days               0\n",
            "customer_address_change_days       0\n",
            "customer_latitude                  0\n",
            "customer_longitude                 0\n",
            "card_number_hash                   0\n",
            "card_type                          0\n",
            "issuing_bank_name                  0\n",
            "card_entry_method                  0\n",
            "cvv_match_result                   0\n",
            "merchant_id                        0\n",
            "merchant_name                      0\n",
            "merchant_category                  0\n",
            "merchant_latitude                  0\n",
            "merchant_longitude                 0\n",
            "merchant_risk_score                0\n",
            "ip_address                         0\n",
            "ip_proxy_type                      0\n",
            "device_id                          0\n",
            "device_os                          0\n",
            "user_agent                         0\n",
            "is_international                   0\n",
            "distance_from_home_km              0\n",
            "distance_from_last_txn_km          0\n",
            "time_since_last_txn_sec            0\n",
            "is_first_time_customer_merchant    0\n",
            "is_fraud                           0\n",
            "dtype: int64\n"
          ]
        }
      ],
      "source": [
        "print(df.isna().sum())"
      ]
    },
    {
      "cell_type": "code",
      "execution_count": null,
      "id": "k64PSP711Vtg",
      "metadata": {
        "colab": {
          "base_uri": "https://localhost:8080/",
          "height": 214
        },
        "id": "k64PSP711Vtg",
        "outputId": "243af24e-cba7-481d-dd8e-686ac6ef4382"
      },
      "outputs": [
        {
          "name": "stdout",
          "output_type": "stream",
          "text": [
            "\n",
            "Fraud Distribution:\n"
          ]
        },
        {
          "data": {
            "text/html": [
              "<div>\n",
              "<style scoped>\n",
              "    .dataframe tbody tr th:only-of-type {\n",
              "        vertical-align: middle;\n",
              "    }\n",
              "\n",
              "    .dataframe tbody tr th {\n",
              "        vertical-align: top;\n",
              "    }\n",
              "\n",
              "    .dataframe thead th {\n",
              "        text-align: right;\n",
              "    }\n",
              "</style>\n",
              "<table border=\"1\" class=\"dataframe\">\n",
              "  <thead>\n",
              "    <tr style=\"text-align: right;\">\n",
              "      <th></th>\n",
              "      <th>proportion</th>\n",
              "    </tr>\n",
              "    <tr>\n",
              "      <th>is_fraud</th>\n",
              "      <th></th>\n",
              "    </tr>\n",
              "  </thead>\n",
              "  <tbody>\n",
              "    <tr>\n",
              "      <th>False</th>\n",
              "      <td>0.89999</td>\n",
              "    </tr>\n",
              "    <tr>\n",
              "      <th>True</th>\n",
              "      <td>0.10001</td>\n",
              "    </tr>\n",
              "  </tbody>\n",
              "</table>\n",
              "</div><br><label><b>dtype:</b> float64</label>"
            ],
            "text/plain": [
              "is_fraud\n",
              "False    0.89999\n",
              "True     0.10001\n",
              "Name: proportion, dtype: float64"
            ]
          },
          "execution_count": 11,
          "metadata": {},
          "output_type": "execute_result"
        }
      ],
      "source": [
        "# Check the distribution of the target variable 'is_fraud'\n",
        "print(\"\\nFraud Distribution:\")\n",
        "df['is_fraud'].value_counts(normalize=True)"
      ]
    },
    {
      "cell_type": "code",
      "execution_count": null,
      "id": "tbbOTx591XIY",
      "metadata": {
        "colab": {
          "base_uri": "https://localhost:8080/",
          "height": 356
        },
        "id": "tbbOTx591XIY",
        "outputId": "fb6834a4-3587-4d61-a8a8-76e94537b780"
      },
      "outputs": [
        {
          "name": "stdout",
          "output_type": "stream",
          "text": [
            "\n",
            "Descriptive Statistics:\n"
          ]
        },
        {
          "data": {
            "application/vnd.google.colaboratory.intrinsic+json": {
              "summary": "{\n  \"name\": \"df\",\n  \"rows\": 8,\n  \"fields\": [\n    {\n      \"column\": \"transaction_amount\",\n      \"properties\": {\n        \"dtype\": \"number\",\n        \"std\": 34847.12205210337,\n        \"min\": 10.0,\n        \"max\": 100000.0,\n        \"num_unique_values\": 8,\n        \"samples\": [\n          723.6430041000001,\n          500.0,\n          100000.0\n        ],\n        \"semantic_type\": \"\",\n        \"description\": \"\"\n      }\n    },\n    {\n      \"column\": \"transaction_hour_of_day\",\n      \"properties\": {\n        \"dtype\": \"number\",\n        \"std\": 35351.53161440325,\n        \"min\": 0.0,\n        \"max\": 100000.0,\n        \"num_unique_values\": 8,\n        \"samples\": [\n          11.47864,\n          11.0,\n          100000.0\n        ],\n        \"semantic_type\": \"\",\n        \"description\": \"\"\n      }\n    },\n    {\n      \"column\": \"customer_tenure_days\",\n      \"properties\": {\n        \"dtype\": \"number\",\n        \"std\": 35036.59124803977,\n        \"min\": 3.0,\n        \"max\": 100000.0,\n        \"num_unique_values\": 8,\n        \"samples\": [\n          954.43491,\n          960.0,\n          100000.0\n        ],\n        \"semantic_type\": \"\",\n        \"description\": \"\"\n      }\n    },\n    {\n      \"column\": \"customer_address_change_days\",\n      \"properties\": {\n        \"dtype\": \"number\",\n        \"std\": 35144.32994342399,\n        \"min\": 3.0,\n        \"max\": 100000.0,\n        \"num_unique_values\": 8,\n        \"samples\": [\n          516.85269,\n          401.0,\n          100000.0\n        ],\n        \"semantic_type\": \"\",\n        \"description\": \"\"\n      }\n    },\n    {\n      \"column\": \"customer_latitude\",\n      \"properties\": {\n        \"dtype\": \"number\",\n        \"std\": 35346.558585456405,\n        \"min\": 2.0032142078836666,\n        \"max\": 100000.0,\n        \"num_unique_values\": 8,\n        \"samples\": [\n          29.015225228552804,\n          29.98152139783266,\n          100000.0\n        ],\n        \"semantic_type\": \"\",\n        \"description\": \"\"\n      }\n    },\n    {\n      \"column\": \"customer_longitude\",\n      \"properties\": {\n        \"dtype\": \"number\",\n        \"std\": 35345.852276253034,\n        \"min\": 1.3990158322471218,\n        \"max\": 100000.0,\n        \"num_unique_values\": 8,\n        \"samples\": [\n          31.584837902187047,\n          31.326564991573726,\n          100000.0\n        ],\n        \"semantic_type\": \"\",\n        \"description\": \"\"\n      }\n    },\n    {\n      \"column\": \"merchant_latitude\",\n      \"properties\": {\n        \"dtype\": \"number\",\n        \"std\": 35346.56744206995,\n        \"min\": 1.991479349898477,\n        \"max\": 100000.0,\n        \"num_unique_values\": 8,\n        \"samples\": [\n          29.068494276419095,\n          30.000060183900523,\n          100000.0\n        ],\n        \"semantic_type\": \"\",\n        \"description\": \"\"\n      }\n    },\n    {\n      \"column\": \"merchant_longitude\",\n      \"properties\": {\n        \"dtype\": \"number\",\n        \"std\": 35345.642897008096,\n        \"min\": 1.1257424498250064,\n        \"max\": 100000.0,\n        \"num_unique_values\": 8,\n        \"samples\": [\n          31.74335342149603,\n          31.331930780728374,\n          100000.0\n        ],\n        \"semantic_type\": \"\",\n        \"description\": \"\"\n      }\n    },\n    {\n      \"column\": \"merchant_risk_score\",\n      \"properties\": {\n        \"dtype\": \"number\",\n        \"std\": 35355.23992861166,\n        \"min\": 0.01,\n        \"max\": 100000.0,\n        \"num_unique_values\": 8,\n        \"samples\": [\n          0.21359836000000004,\n          0.197,\n          100000.0\n        ],\n        \"semantic_type\": \"\",\n        \"description\": \"\"\n      }\n    },\n    {\n      \"column\": \"distance_from_home_km\",\n      \"properties\": {\n        \"dtype\": \"number\",\n        \"std\": 35292.313534205074,\n        \"min\": 0.0,\n        \"max\": 100000.0,\n        \"num_unique_values\": 8,\n        \"samples\": [\n          58.351676176,\n          3.0406,\n          100000.0\n        ],\n        \"semantic_type\": \"\",\n        \"description\": \"\"\n      }\n    },\n    {\n      \"column\": \"distance_from_last_txn_km\",\n      \"properties\": {\n        \"dtype\": \"number\",\n        \"std\": 35286.67370804011,\n        \"min\": 0.0,\n        \"max\": 100000.0,\n        \"num_unique_values\": 8,\n        \"samples\": [\n          94.36230751499997,\n          4.495699999999999,\n          100000.0\n        ],\n        \"semantic_type\": \"\",\n        \"description\": \"\"\n      }\n    },\n    {\n      \"column\": \"time_since_last_txn_sec\",\n      \"properties\": {\n        \"dtype\": \"number\",\n        \"std\": 11284676.862884372,\n        \"min\": 0.0,\n        \"max\": 34134137.0,\n        \"num_unique_values\": 8,\n        \"samples\": [\n          6330465.60015,\n          2698242.5,\n          100000.0\n        ],\n        \"semantic_type\": \"\",\n        \"description\": \"\"\n      }\n    }\n  ]\n}",
              "type": "dataframe"
            },
            "text/html": [
              "\n",
              "  <div id=\"df-d03dc130-7cdc-4239-8c40-d7e0efb1bd47\" class=\"colab-df-container\">\n",
              "    <div>\n",
              "<style scoped>\n",
              "    .dataframe tbody tr th:only-of-type {\n",
              "        vertical-align: middle;\n",
              "    }\n",
              "\n",
              "    .dataframe tbody tr th {\n",
              "        vertical-align: top;\n",
              "    }\n",
              "\n",
              "    .dataframe thead th {\n",
              "        text-align: right;\n",
              "    }\n",
              "</style>\n",
              "<table border=\"1\" class=\"dataframe\">\n",
              "  <thead>\n",
              "    <tr style=\"text-align: right;\">\n",
              "      <th></th>\n",
              "      <th>transaction_amount</th>\n",
              "      <th>transaction_hour_of_day</th>\n",
              "      <th>customer_tenure_days</th>\n",
              "      <th>customer_address_change_days</th>\n",
              "      <th>customer_latitude</th>\n",
              "      <th>customer_longitude</th>\n",
              "      <th>merchant_latitude</th>\n",
              "      <th>merchant_longitude</th>\n",
              "      <th>merchant_risk_score</th>\n",
              "      <th>distance_from_home_km</th>\n",
              "      <th>distance_from_last_txn_km</th>\n",
              "      <th>time_since_last_txn_sec</th>\n",
              "    </tr>\n",
              "  </thead>\n",
              "  <tbody>\n",
              "    <tr>\n",
              "      <th>count</th>\n",
              "      <td>100000.000000</td>\n",
              "      <td>100000.000000</td>\n",
              "      <td>100000.000000</td>\n",
              "      <td>100000.000000</td>\n",
              "      <td>100000.000000</td>\n",
              "      <td>100000.000000</td>\n",
              "      <td>100000.000000</td>\n",
              "      <td>100000.000000</td>\n",
              "      <td>100000.000000</td>\n",
              "      <td>100000.000000</td>\n",
              "      <td>100000.000000</td>\n",
              "      <td>1.000000e+05</td>\n",
              "    </tr>\n",
              "    <tr>\n",
              "      <th>mean</th>\n",
              "      <td>723.643004</td>\n",
              "      <td>11.478640</td>\n",
              "      <td>954.434910</td>\n",
              "      <td>516.852690</td>\n",
              "      <td>29.015225</td>\n",
              "      <td>31.584838</td>\n",
              "      <td>29.068494</td>\n",
              "      <td>31.743353</td>\n",
              "      <td>0.213598</td>\n",
              "      <td>58.351676</td>\n",
              "      <td>94.362308</td>\n",
              "      <td>6.330466e+06</td>\n",
              "    </tr>\n",
              "    <tr>\n",
              "      <th>std</th>\n",
              "      <td>676.535042</td>\n",
              "      <td>6.918626</td>\n",
              "      <td>597.896923</td>\n",
              "      <td>430.893823</td>\n",
              "      <td>2.003214</td>\n",
              "      <td>1.399016</td>\n",
              "      <td>1.991479</td>\n",
              "      <td>1.125742</td>\n",
              "      <td>0.159115</td>\n",
              "      <td>153.616096</td>\n",
              "      <td>188.234446</td>\n",
              "      <td>8.116504e+06</td>\n",
              "    </tr>\n",
              "    <tr>\n",
              "      <th>min</th>\n",
              "      <td>10.000000</td>\n",
              "      <td>0.000000</td>\n",
              "      <td>3.000000</td>\n",
              "      <td>3.000000</td>\n",
              "      <td>24.003767</td>\n",
              "      <td>25.501823</td>\n",
              "      <td>24.080054</td>\n",
              "      <td>29.900106</td>\n",
              "      <td>0.010000</td>\n",
              "      <td>0.000000</td>\n",
              "      <td>0.000000</td>\n",
              "      <td>0.000000e+00</td>\n",
              "    </tr>\n",
              "    <tr>\n",
              "      <th>25%</th>\n",
              "      <td>300.000000</td>\n",
              "      <td>6.000000</td>\n",
              "      <td>429.000000</td>\n",
              "      <td>162.000000</td>\n",
              "      <td>27.280456</td>\n",
              "      <td>30.997953</td>\n",
              "      <td>27.266654</td>\n",
              "      <td>31.005935</td>\n",
              "      <td>0.100000</td>\n",
              "      <td>1.245300</td>\n",
              "      <td>1.666500</td>\n",
              "      <td>7.525448e+05</td>\n",
              "    </tr>\n",
              "    <tr>\n",
              "      <th>50%</th>\n",
              "      <td>500.000000</td>\n",
              "      <td>11.000000</td>\n",
              "      <td>960.000000</td>\n",
              "      <td>401.000000</td>\n",
              "      <td>29.981521</td>\n",
              "      <td>31.326565</td>\n",
              "      <td>30.000060</td>\n",
              "      <td>31.331931</td>\n",
              "      <td>0.197000</td>\n",
              "      <td>3.040600</td>\n",
              "      <td>4.495700</td>\n",
              "      <td>2.698242e+06</td>\n",
              "    </tr>\n",
              "    <tr>\n",
              "      <th>75%</th>\n",
              "      <td>1000.000000</td>\n",
              "      <td>17.000000</td>\n",
              "      <td>1474.000000</td>\n",
              "      <td>779.000000</td>\n",
              "      <td>30.084111</td>\n",
              "      <td>32.549409</td>\n",
              "      <td>30.068153</td>\n",
              "      <td>32.549928</td>\n",
              "      <td>0.295000</td>\n",
              "      <td>5.358100</td>\n",
              "      <td>38.836575</td>\n",
              "      <td>8.346118e+06</td>\n",
              "    </tr>\n",
              "    <tr>\n",
              "      <th>max</th>\n",
              "      <td>10000.000000</td>\n",
              "      <td>23.000000</td>\n",
              "      <td>2000.000000</td>\n",
              "      <td>1989.000000</td>\n",
              "      <td>31.501982</td>\n",
              "      <td>34.501137</td>\n",
              "      <td>31.219916</td>\n",
              "      <td>34.349982</td>\n",
              "      <td>0.988000</td>\n",
              "      <td>1063.158500</td>\n",
              "      <td>1068.334000</td>\n",
              "      <td>3.413414e+07</td>\n",
              "    </tr>\n",
              "  </tbody>\n",
              "</table>\n",
              "</div>\n",
              "    <div class=\"colab-df-buttons\">\n",
              "\n",
              "  <div class=\"colab-df-container\">\n",
              "    <button class=\"colab-df-convert\" onclick=\"convertToInteractive('df-d03dc130-7cdc-4239-8c40-d7e0efb1bd47')\"\n",
              "            title=\"Convert this dataframe to an interactive table.\"\n",
              "            style=\"display:none;\">\n",
              "\n",
              "  <svg xmlns=\"http://www.w3.org/2000/svg\" height=\"24px\" viewBox=\"0 -960 960 960\">\n",
              "    <path d=\"M120-120v-720h720v720H120Zm60-500h600v-160H180v160Zm220 220h160v-160H400v160Zm0 220h160v-160H400v160ZM180-400h160v-160H180v160Zm440 0h160v-160H620v160ZM180-180h160v-160H180v160Zm440 0h160v-160H620v160Z\"/>\n",
              "  </svg>\n",
              "    </button>\n",
              "\n",
              "  <style>\n",
              "    .colab-df-container {\n",
              "      display:flex;\n",
              "      gap: 12px;\n",
              "    }\n",
              "\n",
              "    .colab-df-convert {\n",
              "      background-color: #E8F0FE;\n",
              "      border: none;\n",
              "      border-radius: 50%;\n",
              "      cursor: pointer;\n",
              "      display: none;\n",
              "      fill: #1967D2;\n",
              "      height: 32px;\n",
              "      padding: 0 0 0 0;\n",
              "      width: 32px;\n",
              "    }\n",
              "\n",
              "    .colab-df-convert:hover {\n",
              "      background-color: #E2EBFA;\n",
              "      box-shadow: 0px 1px 2px rgba(60, 64, 67, 0.3), 0px 1px 3px 1px rgba(60, 64, 67, 0.15);\n",
              "      fill: #174EA6;\n",
              "    }\n",
              "\n",
              "    .colab-df-buttons div {\n",
              "      margin-bottom: 4px;\n",
              "    }\n",
              "\n",
              "    [theme=dark] .colab-df-convert {\n",
              "      background-color: #3B4455;\n",
              "      fill: #D2E3FC;\n",
              "    }\n",
              "\n",
              "    [theme=dark] .colab-df-convert:hover {\n",
              "      background-color: #434B5C;\n",
              "      box-shadow: 0px 1px 3px 1px rgba(0, 0, 0, 0.15);\n",
              "      filter: drop-shadow(0px 1px 2px rgba(0, 0, 0, 0.3));\n",
              "      fill: #FFFFFF;\n",
              "    }\n",
              "  </style>\n",
              "\n",
              "    <script>\n",
              "      const buttonEl =\n",
              "        document.querySelector('#df-d03dc130-7cdc-4239-8c40-d7e0efb1bd47 button.colab-df-convert');\n",
              "      buttonEl.style.display =\n",
              "        google.colab.kernel.accessAllowed ? 'block' : 'none';\n",
              "\n",
              "      async function convertToInteractive(key) {\n",
              "        const element = document.querySelector('#df-d03dc130-7cdc-4239-8c40-d7e0efb1bd47');\n",
              "        const dataTable =\n",
              "          await google.colab.kernel.invokeFunction('convertToInteractive',\n",
              "                                                    [key], {});\n",
              "        if (!dataTable) return;\n",
              "\n",
              "        const docLinkHtml = 'Like what you see? Visit the ' +\n",
              "          '<a target=\"_blank\" href=https://colab.research.google.com/notebooks/data_table.ipynb>data table notebook</a>'\n",
              "          + ' to learn more about interactive tables.';\n",
              "        element.innerHTML = '';\n",
              "        dataTable['output_type'] = 'display_data';\n",
              "        await google.colab.output.renderOutput(dataTable, element);\n",
              "        const docLink = document.createElement('div');\n",
              "        docLink.innerHTML = docLinkHtml;\n",
              "        element.appendChild(docLink);\n",
              "      }\n",
              "    </script>\n",
              "  </div>\n",
              "\n",
              "\n",
              "    <div id=\"df-6cd6785b-543a-40bc-b06a-6dedfcec3846\">\n",
              "      <button class=\"colab-df-quickchart\" onclick=\"quickchart('df-6cd6785b-543a-40bc-b06a-6dedfcec3846')\"\n",
              "                title=\"Suggest charts\"\n",
              "                style=\"display:none;\">\n",
              "\n",
              "<svg xmlns=\"http://www.w3.org/2000/svg\" height=\"24px\"viewBox=\"0 0 24 24\"\n",
              "     width=\"24px\">\n",
              "    <g>\n",
              "        <path d=\"M19 3H5c-1.1 0-2 .9-2 2v14c0 1.1.9 2 2 2h14c1.1 0 2-.9 2-2V5c0-1.1-.9-2-2-2zM9 17H7v-7h2v7zm4 0h-2V7h2v10zm4 0h-2v-4h2v4z\"/>\n",
              "    </g>\n",
              "</svg>\n",
              "      </button>\n",
              "\n",
              "<style>\n",
              "  .colab-df-quickchart {\n",
              "      --bg-color: #E8F0FE;\n",
              "      --fill-color: #1967D2;\n",
              "      --hover-bg-color: #E2EBFA;\n",
              "      --hover-fill-color: #174EA6;\n",
              "      --disabled-fill-color: #AAA;\n",
              "      --disabled-bg-color: #DDD;\n",
              "  }\n",
              "\n",
              "  [theme=dark] .colab-df-quickchart {\n",
              "      --bg-color: #3B4455;\n",
              "      --fill-color: #D2E3FC;\n",
              "      --hover-bg-color: #434B5C;\n",
              "      --hover-fill-color: #FFFFFF;\n",
              "      --disabled-bg-color: #3B4455;\n",
              "      --disabled-fill-color: #666;\n",
              "  }\n",
              "\n",
              "  .colab-df-quickchart {\n",
              "    background-color: var(--bg-color);\n",
              "    border: none;\n",
              "    border-radius: 50%;\n",
              "    cursor: pointer;\n",
              "    display: none;\n",
              "    fill: var(--fill-color);\n",
              "    height: 32px;\n",
              "    padding: 0;\n",
              "    width: 32px;\n",
              "  }\n",
              "\n",
              "  .colab-df-quickchart:hover {\n",
              "    background-color: var(--hover-bg-color);\n",
              "    box-shadow: 0 1px 2px rgba(60, 64, 67, 0.3), 0 1px 3px 1px rgba(60, 64, 67, 0.15);\n",
              "    fill: var(--button-hover-fill-color);\n",
              "  }\n",
              "\n",
              "  .colab-df-quickchart-complete:disabled,\n",
              "  .colab-df-quickchart-complete:disabled:hover {\n",
              "    background-color: var(--disabled-bg-color);\n",
              "    fill: var(--disabled-fill-color);\n",
              "    box-shadow: none;\n",
              "  }\n",
              "\n",
              "  .colab-df-spinner {\n",
              "    border: 2px solid var(--fill-color);\n",
              "    border-color: transparent;\n",
              "    border-bottom-color: var(--fill-color);\n",
              "    animation:\n",
              "      spin 1s steps(1) infinite;\n",
              "  }\n",
              "\n",
              "  @keyframes spin {\n",
              "    0% {\n",
              "      border-color: transparent;\n",
              "      border-bottom-color: var(--fill-color);\n",
              "      border-left-color: var(--fill-color);\n",
              "    }\n",
              "    20% {\n",
              "      border-color: transparent;\n",
              "      border-left-color: var(--fill-color);\n",
              "      border-top-color: var(--fill-color);\n",
              "    }\n",
              "    30% {\n",
              "      border-color: transparent;\n",
              "      border-left-color: var(--fill-color);\n",
              "      border-top-color: var(--fill-color);\n",
              "      border-right-color: var(--fill-color);\n",
              "    }\n",
              "    40% {\n",
              "      border-color: transparent;\n",
              "      border-right-color: var(--fill-color);\n",
              "      border-top-color: var(--fill-color);\n",
              "    }\n",
              "    60% {\n",
              "      border-color: transparent;\n",
              "      border-right-color: var(--fill-color);\n",
              "    }\n",
              "    80% {\n",
              "      border-color: transparent;\n",
              "      border-right-color: var(--fill-color);\n",
              "      border-bottom-color: var(--fill-color);\n",
              "    }\n",
              "    90% {\n",
              "      border-color: transparent;\n",
              "      border-bottom-color: var(--fill-color);\n",
              "    }\n",
              "  }\n",
              "</style>\n",
              "\n",
              "      <script>\n",
              "        async function quickchart(key) {\n",
              "          const quickchartButtonEl =\n",
              "            document.querySelector('#' + key + ' button');\n",
              "          quickchartButtonEl.disabled = true;  // To prevent multiple clicks.\n",
              "          quickchartButtonEl.classList.add('colab-df-spinner');\n",
              "          try {\n",
              "            const charts = await google.colab.kernel.invokeFunction(\n",
              "                'suggestCharts', [key], {});\n",
              "          } catch (error) {\n",
              "            console.error('Error during call to suggestCharts:', error);\n",
              "          }\n",
              "          quickchartButtonEl.classList.remove('colab-df-spinner');\n",
              "          quickchartButtonEl.classList.add('colab-df-quickchart-complete');\n",
              "        }\n",
              "        (() => {\n",
              "          let quickchartButtonEl =\n",
              "            document.querySelector('#df-6cd6785b-543a-40bc-b06a-6dedfcec3846 button');\n",
              "          quickchartButtonEl.style.display =\n",
              "            google.colab.kernel.accessAllowed ? 'block' : 'none';\n",
              "        })();\n",
              "      </script>\n",
              "    </div>\n",
              "\n",
              "    </div>\n",
              "  </div>\n"
            ],
            "text/plain": [
              "       transaction_amount  transaction_hour_of_day  customer_tenure_days  \\\n",
              "count       100000.000000            100000.000000         100000.000000   \n",
              "mean           723.643004                11.478640            954.434910   \n",
              "std            676.535042                 6.918626            597.896923   \n",
              "min             10.000000                 0.000000              3.000000   \n",
              "25%            300.000000                 6.000000            429.000000   \n",
              "50%            500.000000                11.000000            960.000000   \n",
              "75%           1000.000000                17.000000           1474.000000   \n",
              "max          10000.000000                23.000000           2000.000000   \n",
              "\n",
              "       customer_address_change_days  customer_latitude  customer_longitude  \\\n",
              "count                 100000.000000      100000.000000       100000.000000   \n",
              "mean                     516.852690          29.015225           31.584838   \n",
              "std                      430.893823           2.003214            1.399016   \n",
              "min                        3.000000          24.003767           25.501823   \n",
              "25%                      162.000000          27.280456           30.997953   \n",
              "50%                      401.000000          29.981521           31.326565   \n",
              "75%                      779.000000          30.084111           32.549409   \n",
              "max                     1989.000000          31.501982           34.501137   \n",
              "\n",
              "       merchant_latitude  merchant_longitude  merchant_risk_score  \\\n",
              "count      100000.000000       100000.000000        100000.000000   \n",
              "mean           29.068494           31.743353             0.213598   \n",
              "std             1.991479            1.125742             0.159115   \n",
              "min            24.080054           29.900106             0.010000   \n",
              "25%            27.266654           31.005935             0.100000   \n",
              "50%            30.000060           31.331931             0.197000   \n",
              "75%            30.068153           32.549928             0.295000   \n",
              "max            31.219916           34.349982             0.988000   \n",
              "\n",
              "       distance_from_home_km  distance_from_last_txn_km  \\\n",
              "count          100000.000000              100000.000000   \n",
              "mean               58.351676                  94.362308   \n",
              "std               153.616096                 188.234446   \n",
              "min                 0.000000                   0.000000   \n",
              "25%                 1.245300                   1.666500   \n",
              "50%                 3.040600                   4.495700   \n",
              "75%                 5.358100                  38.836575   \n",
              "max              1063.158500                1068.334000   \n",
              "\n",
              "       time_since_last_txn_sec  \n",
              "count             1.000000e+05  \n",
              "mean              6.330466e+06  \n",
              "std               8.116504e+06  \n",
              "min               0.000000e+00  \n",
              "25%               7.525448e+05  \n",
              "50%               2.698242e+06  \n",
              "75%               8.346118e+06  \n",
              "max               3.413414e+07  "
            ]
          },
          "execution_count": 12,
          "metadata": {},
          "output_type": "execute_result"
        }
      ],
      "source": [
        "# 4. Get descriptive statistics for numerical columns\n",
        "print(\"\\nDescriptive Statistics:\")\n",
        "df.describe()"
      ]
    },
    {
      "cell_type": "code",
      "execution_count": null,
      "id": "0OxwWdTE1YPr",
      "metadata": {
        "colab": {
          "base_uri": "https://localhost:8080/"
        },
        "id": "0OxwWdTE1YPr",
        "outputId": "a4c4fc5e-d9ea-47d1-dd4b-6a13be13648f"
      },
      "outputs": [
        {
          "name": "stdout",
          "output_type": "stream",
          "text": [
            "\n",
            "Transaction types:\n",
            "transaction_type\n",
            "POS    48008\n",
            "ONL    43716\n",
            "MOB     4098\n",
            "QR      2133\n",
            "ATM     2045\n",
            "Name: count, dtype: int64\n"
          ]
        }
      ],
      "source": [
        "print(\"\\nTransaction types:\")\n",
        "print(df['transaction_type'].value_counts())"
      ]
    },
    {
      "cell_type": "code",
      "execution_count": null,
      "id": "mGZ72PgS1Zfe",
      "metadata": {
        "colab": {
          "base_uri": "https://localhost:8080/"
        },
        "id": "mGZ72PgS1Zfe",
        "outputId": "32b99872-3642-4b43-d3e0-13ee54eaacd4"
      },
      "outputs": [
        {
          "name": "stdout",
          "output_type": "stream",
          "text": [
            "transaction_status\n",
            "approved    93035\n",
            "declined     5984\n",
            "pending       981\n",
            "Name: count, dtype: int64\n"
          ]
        }
      ],
      "source": [
        "print(df['transaction_status'].value_counts())"
      ]
    },
    {
      "cell_type": "code",
      "execution_count": null,
      "id": "xII1pjbm1a6n",
      "metadata": {
        "colab": {
          "base_uri": "https://localhost:8080/"
        },
        "id": "xII1pjbm1a6n",
        "outputId": "ef1c9738-c348-4522-ea89-9adcbe2437e1"
      },
      "outputs": [
        {
          "name": "stdout",
          "output_type": "stream",
          "text": [
            "\n",
            "Card types:\n",
            "card_type\n",
            "Meeza         33365\n",
            "MasterCard    33346\n",
            "Visa          33289\n",
            "Name: count, dtype: int64\n"
          ]
        }
      ],
      "source": [
        "print(\"\\nCard types:\")\n",
        "print(df['card_type'].value_counts())"
      ]
    },
    {
      "cell_type": "code",
      "execution_count": null,
      "id": "-j9j-Mcz1bxC",
      "metadata": {
        "colab": {
          "base_uri": "https://localhost:8080/"
        },
        "id": "-j9j-Mcz1bxC",
        "outputId": "19ac2ceb-afb3-41ac-d3be-5ca797627f5d"
      },
      "outputs": [
        {
          "name": "stdout",
          "output_type": "stream",
          "text": [
            "issuing_bank_name\n",
            "HSBC Bank Egypt                           5686\n",
            "EG Bank                                   5668\n",
            "QNB Alahli                                5631\n",
            "Commercial International Bank (CIB)       5618\n",
            "Attijariwafa Bank Egypt                   5618\n",
            "Credit Agricole Egypt                     5578\n",
            "Abu Dhabi Islamic Bank (ADIB) Egypt       5575\n",
            "Banque Misr                               5571\n",
            "United Bank of Egypt                      5560\n",
            "Faisal Islamic Bank of Egypt              5556\n",
            "Arab African International Bank (AAIB)    5556\n",
            "SAIB Bank                                 5547\n",
            "Alexbank                                  5543\n",
            "Al Baraka Bank Egypt                      5533\n",
            "Banque du Caire                           5470\n",
            "National Bank of Egypt (NBE)              5442\n",
            "Suez Canal Bank                           5437\n",
            "Housing and Development Bank (HDB)        5411\n",
            "Name: count, dtype: int64\n"
          ]
        }
      ],
      "source": [
        "print(df['issuing_bank_name'].value_counts())"
      ]
    },
    {
      "cell_type": "code",
      "execution_count": null,
      "id": "cBA2IiWT1clp",
      "metadata": {
        "colab": {
          "base_uri": "https://localhost:8080/"
        },
        "id": "cBA2IiWT1clp",
        "outputId": "d4cfb02f-6535-442d-827d-15aaab26a306"
      },
      "outputs": [
        {
          "name": "stdout",
          "output_type": "stream",
          "text": [
            "card_entry_method\n",
            "online                21934\n",
            "manual_keyed          21782\n",
            "swiped                16086\n",
            "contactless_card      16061\n",
            "chip                  15861\n",
            "qr_code                4275\n",
            "chip_atm               2045\n",
            "contactless_mobile     1956\n",
            "Name: count, dtype: int64\n"
          ]
        }
      ],
      "source": [
        "print(df['card_entry_method'].value_counts())"
      ]
    },
    {
      "cell_type": "code",
      "execution_count": null,
      "id": "BXDyezQe1dn0",
      "metadata": {
        "colab": {
          "base_uri": "https://localhost:8080/"
        },
        "id": "BXDyezQe1dn0",
        "outputId": "e888250e-74a6-445a-817a-8f3d2a4958a9"
      },
      "outputs": [
        {
          "name": "stdout",
          "output_type": "stream",
          "text": [
            "merchant_category\n",
            "Restaurants           21865\n",
            "Services              15868\n",
            "Grocery               15115\n",
            "Electronics           11218\n",
            "Retail                 8334\n",
            "Health                 7950\n",
            "Fashion                7701\n",
            "Furniture              5103\n",
            "Fuel                   4801\n",
            "Financial Services     2045\n",
            "Name: count, dtype: int64\n"
          ]
        }
      ],
      "source": [
        "print(df['merchant_category'].value_counts())"
      ]
    },
    {
      "cell_type": "code",
      "execution_count": null,
      "id": "iEwUR4lT1e5g",
      "metadata": {
        "colab": {
          "base_uri": "https://localhost:8080/"
        },
        "id": "iEwUR4lT1e5g",
        "outputId": "dcbfd070-e9ec-43e7-8a01-3f3f9b8c204f"
      },
      "outputs": [
        {
          "name": "stdout",
          "output_type": "stream",
          "text": [
            "device_os\n",
            "Windows    26895\n",
            "Android    25161\n",
            "MacOS      24573\n",
            "iOS        23371\n",
            "Name: count, dtype: int64\n"
          ]
        }
      ],
      "source": [
        "print(df['device_os'].value_counts())"
      ]
    },
    {
      "cell_type": "code",
      "execution_count": null,
      "id": "S5izomQm1f68",
      "metadata": {
        "colab": {
          "base_uri": "https://localhost:8080/"
        },
        "id": "S5izomQm1f68",
        "outputId": "01943e5b-ab2b-4410-94e2-a19433afa9b8"
      },
      "outputs": [
        {
          "name": "stdout",
          "output_type": "stream",
          "text": [
            "customer_email_domain\n",
            "gmail.com           28478\n",
            "outlook.com         23386\n",
            "hotmail.com         19368\n",
            "tedata.net.eg       10213\n",
            "orange.com.eg        6604\n",
            "vodafone.com.eg      5591\n",
            "link.net             2585\n",
            "mail.ru              1162\n",
            "yopmail.com          1015\n",
            "temp-mail.org         990\n",
            "10minutemail.com      608\n",
            "Name: count, dtype: int64\n"
          ]
        }
      ],
      "source": [
        "print(df['customer_email_domain'].value_counts())"
      ]
    },
    {
      "cell_type": "markdown",
      "id": "siV2q8fN1ieP",
      "metadata": {
        "id": "siV2q8fN1ieP"
      },
      "source": [
        "#**Data Cleaning**"
      ]
    },
    {
      "cell_type": "code",
      "execution_count": null,
      "id": "RomOLesG1hM6",
      "metadata": {
        "id": "RomOLesG1hM6"
      },
      "outputs": [],
      "source": [
        "columns_to_drop = [\n",
        "    'transaction_id',\n",
        "    'currency',\n",
        "    'customer_id',\n",
        "    'customer_name',\n",
        "    'customer_email',\n",
        "    'card_number_hash',\n",
        "    'merchant_id',\n",
        "    'merchant_name',\n",
        "    'ip_address',\n",
        "    'device_id',\n",
        "    'user_agent'\n",
        "]\n",
        "\n",
        "df.drop(columns=columns_to_drop, axis=1, inplace=True)"
      ]
    },
    {
      "cell_type": "code",
      "execution_count": null,
      "id": "IeZyOPmU1s3D",
      "metadata": {
        "colab": {
          "base_uri": "https://localhost:8080/"
        },
        "id": "IeZyOPmU1s3D",
        "outputId": "7072b531-6518-4d69-d01c-1569f11c6125"
      },
      "outputs": [
        {
          "name": "stdout",
          "output_type": "stream",
          "text": [
            "New shape: (100000, 26)\n"
          ]
        }
      ],
      "source": [
        "print(\"New shape:\", df.shape)"
      ]
    },
    {
      "cell_type": "code",
      "execution_count": null,
      "id": "EtZ71zxU1u2T",
      "metadata": {
        "colab": {
          "base_uri": "https://localhost:8080/"
        },
        "id": "EtZ71zxU1u2T",
        "outputId": "9be04f9b-6ca2-45e7-ddf7-fa215b705154"
      },
      "outputs": [
        {
          "name": "stdout",
          "output_type": "stream",
          "text": [
            "✅ No missing values found.\n"
          ]
        }
      ],
      "source": [
        "missing = df.isnull().sum()\n",
        "missing = missing[missing > 0]\n",
        "\n",
        "if missing.empty:\n",
        "    print(\"✅ No missing values found.\")\n",
        "else:\n",
        "    print(\"⚠️ Missing values found:\\n\", missing)"
      ]
    },
    {
      "cell_type": "code",
      "execution_count": null,
      "id": "vf86PUeb1v27",
      "metadata": {
        "colab": {
          "base_uri": "https://localhost:8080/"
        },
        "id": "vf86PUeb1v27",
        "outputId": "8c5ed0f1-7058-4de7-ad5c-d2a6b1346f07"
      },
      "outputs": [
        {
          "name": "stdout",
          "output_type": "stream",
          "text": [
            "0           2023-01-01T03:00:00Z\n",
            "1           2023-01-01T03:00:15Z\n",
            "2           2023-01-01T03:00:30Z\n",
            "3           2023-01-01T03:00:45Z\n",
            "4    2023-01-01T12:04:25.523977Z\n",
            "5    2023-01-02T10:10:13.167286Z\n",
            "6    2023-01-03T05:22:35.167220Z\n",
            "7    2023-01-03T14:32:20.628659Z\n",
            "8    2023-01-04T10:41:20.281100Z\n",
            "9    2023-01-04T22:44:47.061386Z\n",
            "Name: transaction_timestamp, dtype: object\n"
          ]
        }
      ],
      "source": [
        "print(df['transaction_timestamp'].head(10))\n"
      ]
    },
    {
      "cell_type": "code",
      "execution_count": null,
      "id": "fMh0q9iN1xsE",
      "metadata": {
        "id": "fMh0q9iN1xsE"
      },
      "outputs": [],
      "source": [
        "#1. Convert date to actual time\n",
        "df['transaction_timestamp'] = pd.to_datetime(df['transaction_timestamp'], format='ISO8601')"
      ]
    },
    {
      "cell_type": "code",
      "execution_count": null,
      "id": "AuAVIl7G1yur",
      "metadata": {
        "colab": {
          "base_uri": "https://localhost:8080/",
          "height": 241
        },
        "id": "AuAVIl7G1yur",
        "outputId": "03c8c3f3-731d-4d88-cae1-d34257b956ee"
      },
      "outputs": [
        {
          "data": {
            "text/html": [
              "<div>\n",
              "<style scoped>\n",
              "    .dataframe tbody tr th:only-of-type {\n",
              "        vertical-align: middle;\n",
              "    }\n",
              "\n",
              "    .dataframe tbody tr th {\n",
              "        vertical-align: top;\n",
              "    }\n",
              "\n",
              "    .dataframe thead th {\n",
              "        text-align: right;\n",
              "    }\n",
              "</style>\n",
              "<table border=\"1\" class=\"dataframe\">\n",
              "  <thead>\n",
              "    <tr style=\"text-align: right;\">\n",
              "      <th></th>\n",
              "      <th>transaction_timestamp</th>\n",
              "    </tr>\n",
              "  </thead>\n",
              "  <tbody>\n",
              "    <tr>\n",
              "      <th>0</th>\n",
              "      <td>2023-01-01 03:00:00+00:00</td>\n",
              "    </tr>\n",
              "    <tr>\n",
              "      <th>1</th>\n",
              "      <td>2023-01-01 03:00:15+00:00</td>\n",
              "    </tr>\n",
              "    <tr>\n",
              "      <th>2</th>\n",
              "      <td>2023-01-01 03:00:30+00:00</td>\n",
              "    </tr>\n",
              "    <tr>\n",
              "      <th>3</th>\n",
              "      <td>2023-01-01 03:00:45+00:00</td>\n",
              "    </tr>\n",
              "    <tr>\n",
              "      <th>4</th>\n",
              "      <td>2023-01-01 12:04:25.523977+00:00</td>\n",
              "    </tr>\n",
              "  </tbody>\n",
              "</table>\n",
              "</div><br><label><b>dtype:</b> datetime64[ns, UTC]</label>"
            ],
            "text/plain": [
              "0          2023-01-01 03:00:00+00:00\n",
              "1          2023-01-01 03:00:15+00:00\n",
              "2          2023-01-01 03:00:30+00:00\n",
              "3          2023-01-01 03:00:45+00:00\n",
              "4   2023-01-01 12:04:25.523977+00:00\n",
              "Name: transaction_timestamp, dtype: datetime64[ns, UTC]"
            ]
          },
          "execution_count": 26,
          "metadata": {},
          "output_type": "execute_result"
        }
      ],
      "source": [
        "df['transaction_timestamp'].head(5)"
      ]
    },
    {
      "cell_type": "code",
      "execution_count": null,
      "id": "sO99bNmX1zwO",
      "metadata": {
        "colab": {
          "base_uri": "https://localhost:8080/"
        },
        "id": "sO99bNmX1zwO",
        "outputId": "f9670e5b-ea42-428f-b484-f7b852e9d58a"
      },
      "outputs": [
        {
          "data": {
            "text/plain": [
              "Index(['transaction_timestamp', 'transaction_amount', 'transaction_type',\n",
              "       'transaction_status', 'transaction_hour_of_day',\n",
              "       'customer_email_domain', 'customer_tenure_days',\n",
              "       'customer_address_change_days', 'customer_latitude',\n",
              "       'customer_longitude', 'card_type', 'issuing_bank_name',\n",
              "       'card_entry_method', 'cvv_match_result', 'merchant_category',\n",
              "       'merchant_latitude', 'merchant_longitude', 'merchant_risk_score',\n",
              "       'ip_proxy_type', 'device_os', 'is_international',\n",
              "       'distance_from_home_km', 'distance_from_last_txn_km',\n",
              "       'time_since_last_txn_sec', 'is_first_time_customer_merchant',\n",
              "       'is_fraud'],\n",
              "      dtype='object')"
            ]
          },
          "execution_count": 27,
          "metadata": {},
          "output_type": "execute_result"
        }
      ],
      "source": [
        "df.columns"
      ]
    },
    {
      "cell_type": "markdown",
      "id": "W3QKQICJ0sQQ",
      "metadata": {
        "id": "W3QKQICJ0sQQ"
      },
      "source": [
        "#**Feature Engineering**"
      ]
    },
    {
      "cell_type": "code",
      "execution_count": null,
      "id": "OXiBcdQ24cMQ",
      "metadata": {
        "id": "OXiBcdQ24cMQ"
      },
      "outputs": [],
      "source": [
        "# Feature Engineering\n",
        "# ✅ 1. txn_per_hour: Number of transactions per hour\n",
        "# to avoid division by zero\n",
        "df['txn_per_hour'] = 3600 / df['time_since_last_txn_sec'].replace(0, 1)\n",
        "df['txn_per_hour'] = np.log1p(df['txn_per_hour'])\n",
        "# ✅ 2. is_online: Online payment methods\n",
        "online_methods = ['online', 'manual_keyed', 'qr_code', 'contactless_mobile']\n",
        "df['is_online'] = df['card_entry_method'].isin(online_methods).astype(int)\n",
        "# ✅ 3. cvv_match_result: Is the CVV a match?\n",
        "df['cvv_match_result'] = df['cvv_match_result'].apply(lambda x: 1 if x == 'match' else 0)\n",
        "# ✅ 4. amount_binned: Classify the amount into categories\n",
        "amount_bins = [-1, 50, 500, 3000, 10000, np.inf]\n",
        "df['amount_binned'] = pd.cut(df['transaction_amount'], bins=amount_bins, labels=[0, 1, 2, 3, 4]).astype(int)\n",
        "#✅ 5. distance_to_merchant: The distance between the customer and the merchant\n",
        "from math import radians, sin, cos, sqrt, atan2\n",
        "def haversine_distance(lat1, lon1, lat2, lon2):\n",
        "    R = 6371  # Earth radius in km\n",
        "    lat1, lon1, lat2, lon2 = map(np.radians, [lat1, lon1, lat2, lon2])\n",
        "    dlat = lat2 - lat1\n",
        "    dlon = lon2 - lon1\n",
        "    a = np.sin(dlat / 2) ** 2 + np.cos(lat1) * np.cos(lat2) * np.sin(dlon / 2) ** 2\n",
        "    return R * 2 * np.arcsin(np.sqrt(a))\n",
        "df['distance_to_merchant'] = haversine_distance(\n",
        "    df['customer_latitude'], df['customer_longitude'],\n",
        "    df['merchant_latitude'], df['merchant_longitude']\n",
        ")\n",
        "df['distance_to_merchant'] = np.log1p(df['distance_to_merchant'])\n",
        "#✅ 6\n",
        "df['is_far_txn'] = (df['distance_from_last_txn_km'] > 300).astype(int)\n",
        "#✅ 7\n",
        "df['merchant_risk_score'] = np.log1p(df['merchant_risk_score'])"
      ]
    },
    {
      "cell_type": "code",
      "execution_count": null,
      "id": "uSqKYP_C2A3g",
      "metadata": {
        "id": "uSqKYP_C2A3g"
      },
      "outputs": [],
      "source": [
        "cols_to_drop = [\n",
        "    'distance_from_home_km',\n",
        "    'distance_from_last_txn_km',\n",
        "    'transaction_amount',\n",
        "    'transaction_timestamp',\n",
        "    'transaction_hour_of_day',\n",
        "    'card_entry_method',\n",
        "    'customer_address_change_days',\n",
        "    'time_since_last_txn_sec',\n",
        "    'ip_proxy_type',\n",
        "    'customer_latitude', 'customer_longitude',\n",
        "    'merchant_latitude', 'merchant_longitude',\n",
        "    'card_type',\n",
        "   'customer_tenure_days'\n",
        "]\n",
        "df.drop(columns=[col for col in cols_to_drop if col in df.columns], inplace=True)"
      ]
    },
    {
      "cell_type": "markdown",
      "id": "jiL16uCw2HRy",
      "metadata": {
        "id": "jiL16uCw2HRy"
      },
      "source": [
        "#Label Encoding"
      ]
    },
    {
      "cell_type": "code",
      "execution_count": null,
      "id": "UmsFS90g2Fak",
      "metadata": {
        "colab": {
          "base_uri": "https://localhost:8080/"
        },
        "id": "UmsFS90g2Fak",
        "outputId": "34d74f5b-d819-4ebc-87a4-e711c1d71aba"
      },
      "outputs": [
        {
          "name": "stdout",
          "output_type": "stream",
          "text": [
            "Categorical columns to encode:\n",
            "Index(['transaction_type', 'transaction_status', 'customer_email_domain',\n",
            "       'issuing_bank_name', 'merchant_category', 'device_os'],\n",
            "      dtype='object')\n"
          ]
        }
      ],
      "source": [
        "categorical_cols = df.select_dtypes(include='object').columns\n",
        "print(\"Categorical columns to encode:\")\n",
        "print(categorical_cols)\n",
        "\n",
        "\n",
        "from sklearn.preprocessing import LabelEncoder\n",
        "le = LabelEncoder()\n",
        "for col in categorical_cols:\n",
        "    df[col] = le.fit_transform(df[col])\n",
        "\n",
        "if 'device_os' in df.columns:\n",
        "    le = LabelEncoder()\n",
        "    df['device_os'] = le.fit_transform(df['device_os'])"
      ]
    },
    {
      "cell_type": "markdown",
      "id": "HJ268Sni2V_W",
      "metadata": {
        "id": "HJ268Sni2V_W"
      },
      "source": [
        "#**Feature Scalling**"
      ]
    },
    {
      "cell_type": "code",
      "execution_count": null,
      "id": "_cfEgdKs2dan",
      "metadata": {
        "id": "_cfEgdKs2dan"
      },
      "outputs": [],
      "source": [
        "from sklearn.preprocessing import StandardScaler\n",
        "\n",
        "numeric_cols = [col for col in df.select_dtypes(include=['int64', 'float64']).columns if col != 'is_fraud']\n",
        "scaler = StandardScaler()\n",
        "df[numeric_cols] = scaler.fit_transform(df[numeric_cols])\n"
      ]
    },
    {
      "cell_type": "code",
      "execution_count": null,
      "id": "m3uOcvSG2gBk",
      "metadata": {
        "colab": {
          "base_uri": "https://localhost:8080/"
        },
        "id": "m3uOcvSG2gBk",
        "outputId": "79ef6317-83a5-4557-fab3-a81dca399498"
      },
      "outputs": [
        {
          "data": {
            "text/plain": [
              "Index(['transaction_type', 'transaction_status', 'customer_email_domain',\n",
              "       'issuing_bank_name', 'cvv_match_result', 'merchant_category',\n",
              "       'merchant_risk_score', 'device_os', 'is_international',\n",
              "       'is_first_time_customer_merchant', 'is_fraud', 'txn_per_hour',\n",
              "       'is_online', 'amount_binned', 'distance_to_merchant', 'is_far_txn'],\n",
              "      dtype='object')"
            ]
          },
          "execution_count": 32,
          "metadata": {},
          "output_type": "execute_result"
        }
      ],
      "source": [
        "df.columns"
      ]
    },
    {
      "cell_type": "code",
      "execution_count": null,
      "id": "Oz1umYDdwIOx",
      "metadata": {
        "colab": {
          "base_uri": "https://localhost:8080/"
        },
        "id": "Oz1umYDdwIOx",
        "outputId": "25f371af-0796-41a0-f583-04132e9180b0"
      },
      "outputs": [
        {
          "data": {
            "text/plain": [
              "Index(['transaction_type', 'transaction_status', 'customer_email_domain',\n",
              "       'cvv_match_result', 'merchant_category', 'merchant_risk_score',\n",
              "       'device_os', 'is_first_time_customer_merchant', 'is_fraud',\n",
              "       'txn_per_hour', 'is_online', 'amount_binned', 'distance_to_merchant',\n",
              "       'is_far_txn'],\n",
              "      dtype='object')"
            ]
          },
          "execution_count": 33,
          "metadata": {},
          "output_type": "execute_result"
        }
      ],
      "source": [
        "df.drop(columns=['issuing_bank_name','is_international'],inplace=True)\n",
        "df.columns"
      ]
    },
    {
      "cell_type": "code",
      "execution_count": null,
      "id": "2QDexS3lUson",
      "metadata": {
        "colab": {
          "base_uri": "https://localhost:8080/"
        },
        "id": "2QDexS3lUson",
        "outputId": "cbba24b2-de49-4493-8fd8-e5e4f9c1f088"
      },
      "outputs": [
        {
          "data": {
            "text/plain": [
              "Index(['transaction_type', 'transaction_status', 'customer_email_domain',\n",
              "       'cvv_match_result', 'merchant_category', 'merchant_risk_score',\n",
              "       'device_os', 'is_first_time_customer_merchant', 'is_fraud',\n",
              "       'txn_per_hour', 'is_online', 'amount_binned', 'distance_to_merchant',\n",
              "       'is_far_txn'],\n",
              "      dtype='object')"
            ]
          },
          "execution_count": 34,
          "metadata": {},
          "output_type": "execute_result"
        }
      ],
      "source": [
        "df.columns"
      ]
    },
    {
      "cell_type": "markdown",
      "id": "7ZueBmuO2n3X",
      "metadata": {
        "id": "7ZueBmuO2n3X"
      },
      "source": [
        "#Train/Test Spilt"
      ]
    },
    {
      "cell_type": "code",
      "execution_count": null,
      "id": "jpc0gMu_bG0W",
      "metadata": {
        "colab": {
          "base_uri": "https://localhost:8080/"
        },
        "id": "jpc0gMu_bG0W",
        "outputId": "ef3d1abe-01b8-49cf-8f78-520940ee4358"
      },
      "outputs": [
        {
          "name": "stdout",
          "output_type": "stream",
          "text": [
            "✅ Splitting Done\n",
            "Train shape: (70000, 13)\n",
            "Test shape: (30000, 13)\n"
          ]
        }
      ],
      "source": [
        "from sklearn.model_selection import train_test_split\n",
        "## Separate Features from Target\n",
        "X = df.drop('is_fraud', axis=1)\n",
        "y = df['is_fraud']\n",
        "\n",
        "X_train, X_test, y_train, y_test = train_test_split(\n",
        "    X, y,\n",
        "    test_size=0.3,\n",
        "    random_state=42,\n",
        "    stratify=y\n",
        ")\n",
        "\n",
        "print(\"✅ Splitting Done\")\n",
        "print(\"Train shape:\", X_train.shape)\n",
        "print(\"Test shape:\", X_test.shape)"
      ]
    },
    {
      "cell_type": "markdown",
      "id": "T7qULqsT2yf6",
      "metadata": {
        "id": "T7qULqsT2yf6"
      },
      "source": [
        "#Applying Smote"
      ]
    },
    {
      "cell_type": "code",
      "execution_count": null,
      "id": "IhA_kKXvdQjp",
      "metadata": {
        "colab": {
          "base_uri": "https://localhost:8080/"
        },
        "id": "IhA_kKXvdQjp",
        "outputId": "f00aa079-7acc-48bd-92dd-e78ae8ce96ec"
      },
      "outputs": [
        {
          "name": "stdout",
          "output_type": "stream",
          "text": [
            "After SMOTE:\n",
            "is_fraud\n",
            "False    62999\n",
            "True     62999\n",
            "Name: count, dtype: int64\n"
          ]
        }
      ],
      "source": [
        "from imblearn.over_sampling import SMOTE\n",
        "smote = SMOTE(random_state=42)\n",
        "\n",
        "X_resampled, y_resampled = smote.fit_resample(X_train, y_train)\n",
        "\n",
        "print(\"After SMOTE:\")\n",
        "print(pd.Series(y_resampled).value_counts())"
      ]
    },
    {
      "cell_type": "markdown",
      "id": "B_MxtUl721KQ",
      "metadata": {
        "id": "B_MxtUl721KQ"
      },
      "source": [
        "#**XgbBoost** **Model**"
      ]
    },
    {
      "cell_type": "code",
      "execution_count": null,
      "id": "jCBHY7n9kzXg",
      "metadata": {
        "colab": {
          "base_uri": "https://localhost:8080/"
        },
        "id": "jCBHY7n9kzXg",
        "outputId": "9825ecd9-411a-4b8c-d60e-95fbdc4bfd85"
      },
      "outputs": [
        {
          "name": "stderr",
          "output_type": "stream",
          "text": [
            "/usr/local/lib/python3.11/dist-packages/xgboost/core.py:158: UserWarning: [08:01:33] WARNING: /workspace/src/learner.cc:740: \n",
            "Parameters: { \"use_label_encoder\" } are not used.\n",
            "\n",
            "  warnings.warn(smsg, UserWarning)\n"
          ]
        },
        {
          "name": "stdout",
          "output_type": "stream",
          "text": [
            "📊 Classification Report:\n",
            "              precision    recall  f1-score   support\n",
            "\n",
            "       False       1.00      0.98      0.99     27000\n",
            "        True       0.84      0.97      0.90      3000\n",
            "\n",
            "    accuracy                           0.98     30000\n",
            "   macro avg       0.92      0.98      0.95     30000\n",
            "weighted avg       0.98      0.98      0.98     30000\n",
            "\n",
            "🧩 Confusion Matrix:\n",
            "[[26448   552]\n",
            " [   75  2925]]\n",
            "🔹 Accuracy: 0.9791\n",
            "🔹 Precision: 0.8412\n",
            "🔹 Recall:    0.9750\n",
            "🔹 F1 Score:  0.9032\n"
          ]
        }
      ],
      "source": [
        "from xgboost import XGBClassifier\n",
        "from sklearn.metrics import classification_report, confusion_matrix\n",
        "\n",
        "xgb_model = XGBClassifier(\n",
        "    n_estimators=100,\n",
        "    max_depth=5,\n",
        "    learning_rate=0.1,\n",
        "    subsample=0.8,\n",
        "    colsample_bytree=0.8,\n",
        "    min_child_weight=3,\n",
        "    gamma=0.2,\n",
        "    use_label_encoder=False,\n",
        "    eval_metric='logloss',\n",
        "    random_state=42\n",
        ")\n",
        "\n",
        "xgb_model.fit(X_resampled, y_resampled)\n",
        "\n",
        "y_pred = xgb_model.predict(X_test)\n",
        "\n",
        "print(\"📊 Classification Report:\")\n",
        "print(classification_report(y_test, y_pred))\n",
        "\n",
        "print(\"🧩 Confusion Matrix:\")\n",
        "print(confusion_matrix(y_test, y_pred))\n",
        "\n",
        "from sklearn.metrics import accuracy_score, precision_score, recall_score, f1_score\n",
        "\n",
        "accuracy = accuracy_score(y_test, y_pred)\n",
        "precision = precision_score(y_test, y_pred)\n",
        "recall = recall_score(y_test, y_pred)\n",
        "f1 = f1_score(y_test, y_pred)\n",
        "\n",
        "print(f\"🔹 Accuracy: {accuracy:.4f}\")\n",
        "print(f\"🔹 Precision: {precision:.4f}\")\n",
        "print(f\"🔹 Recall:    {recall:.4f}\")\n",
        "print(f\"🔹 F1 Score:  {f1:.4f}\")"
      ]
    },
    {
      "cell_type": "markdown",
      "id": "8dNhSgt93AyM",
      "metadata": {
        "id": "8dNhSgt93AyM"
      },
      "source": [
        "#XgbBoost Cross_Validation"
      ]
    },
    {
      "cell_type": "code",
      "execution_count": null,
      "id": "ZpkDzU3qk4Wj",
      "metadata": {
        "colab": {
          "base_uri": "https://localhost:8080/"
        },
        "id": "ZpkDzU3qk4Wj",
        "outputId": "ed572632-0b25-47f8-d5e0-0e81844e867d"
      },
      "outputs": [
        {
          "name": "stdout",
          "output_type": "stream",
          "text": [
            "🔁 Cross-Validation F1 Scores: [0.93964194 0.94138725 0.94649351 0.94135802 0.93983992]\n",
            "📊 Average F1 Score: 0.941744129188578\n"
          ]
        }
      ],
      "source": [
        "from sklearn.model_selection import cross_val_score\n",
        "import numpy as np\n",
        "\n",
        "# Make a copy of the model with the same parameters\n",
        "xgb_cv_model = XGBClassifier(\n",
        "    n_estimators=100,\n",
        "    max_depth=5,\n",
        "    learning_rate=0.1,\n",
        "    subsample=0.8,\n",
        "    colsample_bytree=0.8,\n",
        "    min_child_weight=3,\n",
        "    gamma=0.2,\n",
        "    use_label_encoder=False,\n",
        "    eval_metric='logloss',\n",
        "    random_state=42\n",
        ")\n",
        "\n",
        "# cross-validation\n",
        "cv_scores = cross_val_score(\n",
        "    xgb_cv_model,\n",
        "    X, y,\n",
        "    cv=5,\n",
        "    scoring='f1',\n",
        "    n_jobs=-1\n",
        ")\n",
        "\n",
        "print(\"🔁 Cross-Validation F1 Scores:\", cv_scores)\n",
        "print(\"📊 Average F1 Score:\", np.mean(cv_scores))"
      ]
    },
    {
      "cell_type": "code",
      "execution_count": null,
      "id": "Kxc3jzdzkGoz",
      "metadata": {
        "colab": {
          "base_uri": "https://localhost:8080/",
          "height": 598
        },
        "id": "Kxc3jzdzkGoz",
        "outputId": "b0d91971-f542-4b1e-e15e-95f7795fcb2b"
      },
      "outputs": [
        {
          "name": "stderr",
          "output_type": "stream",
          "text": [
            "/tmp/ipython-input-41-803793202.py:7: UserWarning: Glyph 128269 (\\N{LEFT-POINTING MAGNIFYING GLASS}) missing from font(s) DejaVu Sans.\n",
            "  plt.tight_layout()\n"
          ]
        },
        {
          "data": {
            "text/plain": [
              "<Figure size 1200x600 with 0 Axes>"
            ]
          },
          "metadata": {},
          "output_type": "display_data"
        },
        {
          "name": "stderr",
          "output_type": "stream",
          "text": [
            "/usr/local/lib/python3.11/dist-packages/IPython/core/pylabtools.py:151: UserWarning: Glyph 128269 (\\N{LEFT-POINTING MAGNIFYING GLASS}) missing from font(s) DejaVu Sans.\n",
            "  fig.canvas.print_figure(bytes_io, **kw)\n"
          ]
        },
        {
          "data": {
            "image/png": "[encoded data removed]",
            "text/plain": [
              "<Figure size 640x480 with 1 Axes>"
            ]
          },
          "metadata": {},
          "output_type": "display_data"
        }
      ],
      "source": [
        "from xgboost import plot_importance\n",
        "import matplotlib.pyplot as plt\n",
        "\n",
        "plt.figure(figsize=(12, 6))\n",
        "plot_importance(xgb_model, max_num_features=20, importance_type='gain')\n",
        "plt.title(\"Top Feature Importances (XGBoost)\")\n",
        "plt.tight_layout()\n",
        "plt.show()"
      ]
    },
    {
      "cell_type": "code",
      "execution_count": null,
      "id": "eND-tNfQkHRq",
      "metadata": {
        "colab": {
          "base_uri": "https://localhost:8080/"
        },
        "id": "eND-tNfQkHRq",
        "outputId": "6fa87ca5-3cf7-46a3-8613-cf7f0a1ac2c5"
      },
      "outputs": [
        {
          "name": "stdout",
          "output_type": "stream",
          "text": [
            "📌 Top Feature Importances (XGBoost):\n",
            "                            Feature  Importance\n",
            "11             distance_to_merchant    0.327957\n",
            "7   is_first_time_customer_merchant    0.173392\n",
            "3                  cvv_match_result    0.083891\n",
            "10                    amount_binned    0.073342\n",
            "9                         is_online    0.071834\n",
            "12                       is_far_txn    0.069017\n",
            "8                      txn_per_hour    0.053850\n",
            "5               merchant_risk_score    0.050429\n",
            "0                  transaction_type    0.034498\n",
            "1                transaction_status    0.021062\n",
            "2             customer_email_domain    0.016710\n",
            "6                         device_os    0.015515\n",
            "4                 merchant_category    0.008504\n"
          ]
        }
      ],
      "source": [
        "xgb_importance = pd.DataFrame({\n",
        "    'Feature': X.columns,\n",
        "    'Importance': xgb_model.feature_importances_\n",
        "}).sort_values(by='Importance', ascending=False)\n",
        "\n",
        "print(\"📌 Top Feature Importances (XGBoost):\")\n",
        "print(xgb_importance.head(20))"
      ]
    },
    {
      "cell_type": "code",
      "execution_count": null,
      "id": "CvEimgajQFz5",
      "metadata": {
        "colab": {
          "base_uri": "https://localhost:8080/",
          "height": 410
        },
        "id": "CvEimgajQFz5",
        "outputId": "cfdefbd1-8cc8-49a4-db63-a1b8fe86659b"
      },
      "outputs": [
        {
          "data": {
            "image/png": "[encoded data removed]",
            "text/plain": [
              "<Figure size 600x400 with 2 Axes>"
            ]
          },
          "metadata": {},
          "output_type": "display_data"
        }
      ],
      "source": [
        "from sklearn.metrics import confusion_matrix\n",
        "import seaborn as sns\n",
        "import matplotlib.pyplot as plt\n",
        "\n",
        "# Create the confusion matrix from the true and predicted labels\n",
        "cm = confusion_matrix(y_test, y_pred)\n",
        "\n",
        "# Plot the confusion matrix using a heatmap\n",
        "plt.figure(figsize=(6,4))\n",
        "sns.heatmap(cm, annot=True, fmt='d', cmap='Blues',\n",
        "            xticklabels=['Not Fraud', 'Fraud'],\n",
        "            yticklabels=['Not Fraud', 'Fraud'])\n",
        "plt.xlabel('Predicted')\n",
        "plt.ylabel('Actual')\n",
        "plt.title('Confusion Matrix')\n",
        "plt.show()\n"
      ]
    },
    {
      "cell_type": "code",
      "execution_count": null,
      "id": "1msp6owMSPxC",
      "metadata": {
        "colab": {
          "base_uri": "https://localhost:8080/",
          "height": 410
        },
        "id": "1msp6owMSPxC",
        "outputId": "27b6efe4-e5cf-48da-92ec-429cce2eccf2"
      },
      "outputs": [
        {
          "data": {
            "image/png": "[encoded data removed]",
            "text/plain": [
              "<Figure size 600x400 with 1 Axes>"
            ]
          },
          "metadata": {},
          "output_type": "display_data"
        }
      ],
      "source": [
        "from sklearn.metrics import roc_curve, roc_auc_score\n",
        "\n",
        "# Get the prediction probabilities for the positive class (fraud)\n",
        "y_probs = xgb_model.predict_proba(X_test)[:, 1]\n",
        "\n",
        "# Calculate false positive rate, true positive rate, and thresholds\n",
        "fpr, tpr, thresholds = roc_curve(y_test, y_probs)\n",
        "roc_auc = roc_auc_score(y_test, y_probs)\n",
        "\n",
        "# Plot the ROC curve\n",
        "plt.figure(figsize=(6,4))\n",
        "plt.plot(fpr, tpr, label=f'ROC Curve (AUC = {roc_auc:.2f})')\n",
        "plt.plot([0,1], [0,1], 'k--')  # Diagonal line for random guess\n",
        "plt.xlabel('False Positive Rate')\n",
        "plt.ylabel('True Positive Rate')\n",
        "plt.title('Receiver Operating Characteristic (ROC) Curve')\n",
        "plt.legend()\n",
        "plt.grid(True)\n",
        "plt.show()\n"
      ]
    },
    {
      "cell_type": "code",
      "execution_count": null,
      "id": "jI9yoTDzSQ2r",
      "metadata": {
        "id": "jI9yoTDzSQ2r"
      },
      "outputs": [],
      "source": [
        "import pickle\n",
        "\n",
        "\n",
        "with open(\"xgb_fraud_model.pkl\", \"wb\") as file:\n",
        "    pickle.dump(xgb_model, file)\n"
      ]
    }
  ],
  "metadata": {
    "colab": {
      "provenance": []
    },
    "kernelspec": {
      "display_name": "Python 3",
      "language": "python",
      "name": "python3"
    },
    "language_info": {
      "codemirror_mode": {
        "name": "ipython",
        "version": 3
      },
      "file_extension": ".py",
      "mimetype": "text/x-python",
      "name": "python",
      "nbconvert_exporter": "python",
      "pygments_lexer": "ipython3",
      "version": "3.13.2"
    }
  },
  "nbformat": 4,
  "nbformat_minor": 5
}
